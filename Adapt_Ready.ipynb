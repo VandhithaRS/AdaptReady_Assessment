{
 "cells": [
  {
   "cell_type": "markdown",
   "metadata": {},
   "source": [
    "1. Data set reference link: https://www.consumerfinance.gov/data-\n",
    "research/consumer-complaints/#download-the-data\n",
    "File data source: https://files.consumerfinance.gov/ccdb/complaints.csv.zip\n",
    "Problem statement:\n",
    "Download the data from the file data source and provide possible data insights."
   ]
  },
  {
   "cell_type": "code",
   "execution_count": null,
   "metadata": {},
   "outputs": [],
   "source": [
    "import pandas as pd\n",
    "import requests\n",
    "import io\n",
    "import matplotlib.pyplot as plt"
   ]
  },
  {
   "cell_type": "code",
   "execution_count": 3,
   "metadata": {},
   "outputs": [
    {
     "name": "stderr",
     "output_type": "stream",
     "text": [
      "C:\\Users\\VANDHITHA\\AppData\\Local\\Temp\\ipykernel_18624\\3584042210.py:1: DtypeWarning: Columns (16) have mixed types. Specify dtype option on import or set low_memory=False.\n",
      "  df = pd.read_csv(\"complaints.csv\")\n"
     ]
    },
    {
     "name": "stdout",
     "output_type": "stream",
     "text": [
      "Data loaded successfully!\n"
     ]
    }
   ],
   "source": [
    "df = pd.read_csv(\"complaints.csv\")\n",
    "print(\"Data loaded successfully!\")"
   ]
  },
  {
   "cell_type": "code",
   "execution_count": 22,
   "metadata": {},
   "outputs": [
    {
     "name": "stdout",
     "output_type": "stream",
     "text": [
      "First few rows of the DataFrame:\n",
      "  Date received                                            Product  \\\n",
      "0    2024-01-24  Credit reporting or other personal consumer re...   \n",
      "1    2024-02-26                                    Debt collection   \n",
      "2    2024-02-26  Credit reporting or other personal consumer re...   \n",
      "3    2024-02-20  Credit reporting or other personal consumer re...   \n",
      "4    2024-01-26  Credit reporting or other personal consumer re...   \n",
      "\n",
      "        Sub-product                                              Issue  \\\n",
      "0  Credit reporting               Incorrect information on your report   \n",
      "1        Other debt  Threatened to contact someone or share informa...   \n",
      "2  Credit reporting               Incorrect information on your report   \n",
      "3  Credit reporting                        Improper use of your report   \n",
      "4  Credit reporting               Incorrect information on your report   \n",
      "\n",
      "                                       Sub-issue  \\\n",
      "0                  Account information incorrect   \n",
      "1        Talked to a third-party about your debt   \n",
      "2            Information belongs to someone else   \n",
      "3  Reporting company used your report improperly   \n",
      "4            Information belongs to someone else   \n",
      "\n",
      "                        Consumer complaint narrative  \\\n",
      "0                                                NaN   \n",
      "1                                                NaN   \n",
      "2                                                NaN   \n",
      "3  I am disappointed to have received a credit re...   \n",
      "4  The companies, along with the credit reporting...   \n",
      "\n",
      "                             Company public response  \\\n",
      "0  Company has responded to the consumer and the ...   \n",
      "1                                                NaN   \n",
      "2  Company believes it acted appropriately as aut...   \n",
      "3                                                NaN   \n",
      "4                                                NaN   \n",
      "\n",
      "                                  Company State ZIP code Tags  \\\n",
      "0  TRANSUNION INTERMEDIATE HOLDINGS, INC.    FL    33578  NaN   \n",
      "1                   Marlette Funding, LLC    IL    60060  NaN   \n",
      "2            CCS Financial Services, Inc.    NC    27536  NaN   \n",
      "3                              LEXISNEXIS    CA    94124  NaN   \n",
      "4                           EQUIFAX, INC.    NC    28804  NaN   \n",
      "\n",
      "  Consumer consent provided? Submitted via Date sent to company  \\\n",
      "0       Consent not provided           Web           2024-01-24   \n",
      "1       Consent not provided           Web           2024-02-26   \n",
      "2       Consent not provided           Web           2024-02-26   \n",
      "3           Consent provided           Web           2024-02-20   \n",
      "4           Consent provided           Web           2024-01-26   \n",
      "\n",
      "      Company response to consumer Timely response? Consumer disputed?  \\\n",
      "0          Closed with explanation              Yes                NaN   \n",
      "1          Closed with explanation              Yes                NaN   \n",
      "2  Closed with non-monetary relief              Yes                NaN   \n",
      "3          Closed with explanation              Yes                NaN   \n",
      "4  Closed with non-monetary relief              Yes                NaN   \n",
      "\n",
      "   Complaint ID  \n",
      "0       8205544  \n",
      "1       8424268  \n",
      "2       8423775  \n",
      "3       8379830  \n",
      "4       8232435  \n"
     ]
    }
   ],
   "source": [
    "print(\"First few rows of the DataFrame:\")\n",
    "print(df.head())"
   ]
  },
  {
   "cell_type": "code",
   "execution_count": 6,
   "metadata": {},
   "outputs": [
    {
     "name": "stdout",
     "output_type": "stream",
     "text": [
      "\n",
      "DataFrame Information:\n",
      "<class 'pandas.core.frame.DataFrame'>\n",
      "RangeIndex: 5167782 entries, 0 to 5167781\n",
      "Data columns (total 18 columns):\n",
      " #   Column                        Dtype \n",
      "---  ------                        ----- \n",
      " 0   Date received                 object\n",
      " 1   Product                       object\n",
      " 2   Sub-product                   object\n",
      " 3   Issue                         object\n",
      " 4   Sub-issue                     object\n",
      " 5   Consumer complaint narrative  object\n",
      " 6   Company public response       object\n",
      " 7   Company                       object\n",
      " 8   State                         object\n",
      " 9   ZIP code                      object\n",
      " 10  Tags                          object\n",
      " 11  Consumer consent provided?    object\n",
      " 12  Submitted via                 object\n",
      " 13  Date sent to company          object\n",
      " 14  Company response to consumer  object\n",
      " 15  Timely response?              object\n",
      " 16  Consumer disputed?            object\n",
      " 17  Complaint ID                  int64 \n",
      "dtypes: int64(1), object(17)\n",
      "memory usage: 709.7+ MB\n",
      "None\n"
     ]
    }
   ],
   "source": [
    "print(\"\\nDataFrame Information:\")\n",
    "print(df.info())"
   ]
  },
  {
   "cell_type": "code",
   "execution_count": 7,
   "metadata": {},
   "outputs": [
    {
     "name": "stdout",
     "output_type": "stream",
     "text": [
      "\n",
      "Summary statistics:\n",
      "       Complaint ID\n",
      "count  5.167782e+06\n",
      "mean   5.152696e+06\n",
      "std    2.410390e+06\n",
      "min    1.000000e+00\n",
      "25%    3.243253e+06\n",
      "50%    5.397572e+06\n",
      "75%    7.274538e+06\n",
      "max    8.944512e+06\n"
     ]
    }
   ],
   "source": [
    "print(\"\\nSummary statistics:\")\n",
    "print(df.describe())"
   ]
  },
  {
   "cell_type": "markdown",
   "metadata": {},
   "source": [
    "2. Given an unsorted array of integers, find the length of the longest continuous\n",
    "increasing subsequence (subarray). \n",
    "Example 1:\n",
    "Input: [1,3,5,4,7]\n",
    "Output: 3 \n",
    "Example 2:\n",
    "Input: [2,2,2,2,2]\n",
    "Output: 1"
   ]
  },
  {
   "cell_type": "code",
   "execution_count": 27,
   "metadata": {},
   "outputs": [
    {
     "name": "stdout",
     "output_type": "stream",
     "text": [
      "3\n",
      "1\n"
     ]
    }
   ],
   "source": [
    "def findLengthOfLCIS(nums):\n",
    "    if not nums:\n",
    "        return 0\n",
    "    \n",
    "    max_length = 1\n",
    "    current_length = 1\n",
    "    \n",
    "    for i in range(1, len(nums)):\n",
    "        if nums[i] > nums[i - 1]:\n",
    "            current_length += 1\n",
    "            max_length = max(max_length, current_length)\n",
    "        else:\n",
    "            current_length = 1\n",
    "    \n",
    "    return max_length\n",
    "\n",
    "# Example usage:\n",
    "print(findLengthOfLCIS([1, 3, 5, 4, 7]))  # Output: 3\n",
    "print(findLengthOfLCIS([2, 2, 2, 2, 2]))  # Output: 1\n"
   ]
  },
  {
   "cell_type": "markdown",
   "metadata": {},
   "source": [
    "3. Given a list of non negative integers, arrange them such that they form the largest\n",
    "number.\n",
    " \n",
    " Example 1:\n",
    " Input: [10,2]\n",
    " Output: \"210\";\n",
    " \n",
    "Example 2:\n",
    " \n",
    " Input: [3,30,34,5,9]\n",
    " Output: \"9534330\";"
   ]
  },
  {
   "cell_type": "code",
   "execution_count": 31,
   "metadata": {},
   "outputs": [
    {
     "name": "stdout",
     "output_type": "stream",
     "text": [
      "210\n",
      "9534330\n"
     ]
    }
   ],
   "source": [
    "def largestNumber(nums):\n",
    "    nums = sorted(map(str, nums), key=lambda x: x*10, reverse=True)\n",
    "    return str(int(''.join(nums)))\n",
    "\n",
    "# Example usage:\n",
    "print(largestNumber([10, 2]))          # Output: \"210\"\n",
    "print(largestNumber([3, 30, 34, 5, 9])) # Output: \"9534330\"\n"
   ]
  },
  {
   "cell_type": "markdown",
   "metadata": {},
   "source": [
    "4. Store all the \"servlet-name\", and \"servlet-class\" to a csv file from the attached\n",
    "sample_json.json file using Python."
   ]
  },
  {
   "cell_type": "code",
   "execution_count": 53,
   "metadata": {},
   "outputs": [
    {
     "name": "stdout",
     "output_type": "stream",
     "text": [
      "Data has been successfully written to servlet_data.csv\n"
     ]
    }
   ],
   "source": [
    "import json\n",
    "import csv\n",
    "\n",
    "# Load JSON data from file\n",
    "with open('DT A1 sample_json (1) (1).json','r') as file:\n",
    "    data = json.load(file)\n",
    "\n",
    "# Extract \"servlet-name\" and \"servlet-class\" from each item in the JSON array\n",
    "servlet_data = [(item['servlet-name'], item['servlet-class']) for item in data['web-app']['servlet']]\n",
    "\n",
    "# Write extracted data to a CSV file\n",
    "with open('servlet_data.csv', 'w', newline='') as csvfile:\n",
    "    writer = csv.writer(csvfile)\n",
    "    \n",
    "    # Write header\n",
    "    writer.writerow(['servlet-name', 'servlet-class'])\n",
    "    \n",
    "    # Write data rows\n",
    "    writer.writerows(servlet_data)\n",
    "\n",
    "print(\"Data has been successfully written to servlet_data.csv\")\n"
   ]
  }
 ],
 "metadata": {
  "kernelspec": {
   "display_name": "Python 3",
   "language": "python",
   "name": "python3"
  },
  "language_info": {
   "codemirror_mode": {
    "name": "ipython",
    "version": 3
   },
   "file_extension": ".py",
   "mimetype": "text/x-python",
   "name": "python",
   "nbconvert_exporter": "python",
   "pygments_lexer": "ipython3",
   "version": "3.10.11"
  }
 },
 "nbformat": 4,
 "nbformat_minor": 2
}
